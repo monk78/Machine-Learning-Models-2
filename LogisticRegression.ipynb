{
 "cells": [
  {
   "cell_type": "markdown",
   "metadata": {},
   "source": [
    "it is usually used for binary classification.\n",
    "then we will see how can we use it for multiple class regression.\n",
    "it is not regression but a classification."
   ]
  },
  {
   "cell_type": "code",
   "execution_count": 4,
   "metadata": {},
   "outputs": [],
   "source": [
    "import numpy as np\n",
    "import matplotlib.pyplot as plt\n",
    "%matplotlib inline"
   ]
  },
  {
   "cell_type": "code",
   "execution_count": 48,
   "metadata": {},
   "outputs": [
    {
     "data": {
      "image/png": "[encoded data removed]",
      "text/plain": [
       "<Figure size 432x288 with 1 Axes>"
      ]
     },
     "metadata": {
      "needs_background": "light"
     },
     "output_type": "display_data"
    }
   ],
   "source": [
    "np.random.seed(1)\n",
    "mean1=np.array([1,0.5])\n",
    "cov1=np.array([[1,0.1],[0.1,1]])\n",
    "mean2=np.array([4,5.2])\n",
    "cov2=np.array([[1,0.1],[0.1,1.2]])\n",
    "dist1=np.random.multivariate_normal(mean1,cov1,500)\n",
    "dist2=np.random.multivariate_normal(mean2,cov2,500)\n",
    "plt.scatter(dist1[:,0],dist1[:,1])\n",
    "plt.scatter(dist2[:,0],dist2[:,1])\n",
    "plt.show()\n"
   ]
  },
  {
   "cell_type": "code",
   "execution_count": 49,
   "metadata": {},
   "outputs": [
    {
     "data": {
      "text/plain": [
       "array([[0.38016445, 1.52898138, 0.        ],\n",
       "       [0.35586601, 0.89989623, 0.        ],\n",
       "       [4.20373188, 5.73598748, 1.        ],\n",
       "       [1.48914612, 0.76578177, 0.        ],\n",
       "       [2.29929439, 4.74505872, 1.        ],\n",
       "       [4.16216528, 3.45704311, 1.        ],\n",
       "       [4.77414983, 3.30193427, 1.        ],\n",
       "       [3.23727808, 4.47898565, 1.        ],\n",
       "       [4.07703762, 3.93339666, 1.        ],\n",
       "       [4.13705159, 6.68665955, 1.        ]])"
      ]
     },
     "execution_count": 49,
     "metadata": {},
     "output_type": "execute_result"
    }
   ],
   "source": [
    "rows=1000\n",
    "cols=3\n",
    "data=np.zeros((rows,cols))\n",
    "data[:500,:2]=dist1\n",
    "data[500:,:2]=dist2\n",
    "data[500:,-1]+=1\n",
    "np.random.shuffle(data)\n",
    "data[:10]"
   ]
  },
  {
   "cell_type": "code",
   "execution_count": 51,
   "metadata": {},
   "outputs": [
    {
     "name": "stdout",
     "output_type": "stream",
     "text": [
      "(700, 2)\n"
     ]
    }
   ],
   "source": [
    "split=int(0.7*1000)\n",
    "X_train=data[:split,:2]\n",
    "X_test=data[:split,:2]\n",
    "y_train=data[:split,-1]\n",
    "y_test=data[split:,-1]\n",
    "print(X_train.shape)"
   ]
  },
  {
   "cell_type": "code",
   "execution_count": 52,
   "metadata": {},
   "outputs": [],
   "source": [
    "def sigmoid(z):\n",
    "    return 1/(1+np.exp(-z))\n",
    "def hypothesis(X,W,b):\n",
    "    h=(X*W).sum()+b\n",
    "    return sigmoid(h)\n",
    "def get_error(X,W,y_true,b):\n",
    "    err=0\n",
    "    m=X.shape[0]\n",
    "    for i in range(m):\n",
    "        if y_true[i]==0:\n",
    "            err+=np.log(1-hypothesis(X[i],W,b))\n",
    "        else:\n",
    "            err+=np.log(hypothesis(X[i],W,b))\n",
    "    err=err/m\n",
    "    return err\n",
    "            "
   ]
  },
  {
   "cell_type": "code",
   "execution_count": 21,
   "metadata": {},
   "outputs": [],
   "source": [
    "# w0X1+w1x1+W2x2=\n",
    "#b+w1x1+w2x2"
   ]
  },
  {
   "cell_type": "code",
   "execution_count": null,
   "metadata": {},
   "outputs": [],
   "source": []
  },
  {
   "cell_type": "code",
   "execution_count": 53,
   "metadata": {},
   "outputs": [],
   "source": [
    "def get_grad(X,W,y_true,b):\n",
    "    gradW=np.zeros(W.shape[0])\n",
    "    gradb=0\n",
    "    m=X.shape[0]\n",
    "    for i in range(m):\n",
    "        gradW+=(y_true[i]-hypothesis(X[i],W,b))*X[i]\n",
    "        gradb+=(y_true[i]-hypothesis(X[i],W,b))\n",
    "    gradW=gradW/m\n",
    "    gradb=gradb/m\n",
    "    return[gradW,gradb]"
   ]
  },
  {
   "cell_type": "code",
   "execution_count": 54,
   "metadata": {},
   "outputs": [],
   "source": [
    "def optimizer(X,W,y_true,b,learning_rate=0.1):\n",
    "    error=get_error(X,W,y_true,b)\n",
    "    [gradW,gradb]= get_grad(X,W,y_true,b)\n",
    "    W=W+learning_rate*gradW\n",
    "    b=b+learning_rate*gradb\n",
    "    return error,W,b\n",
    "    "
   ]
  },
  {
   "cell_type": "code",
   "execution_count": 55,
   "metadata": {},
   "outputs": [
    {
     "name": "stdout",
     "output_type": "stream",
     "text": [
      "[-0.34329109  1.14236148]\n",
      "-1.4356856170838332\n"
     ]
    }
   ],
   "source": [
    "loss=[]\n",
    "W=np.array([0.5,0.5])\n",
    "b=10\n",
    "for i in range(400):\n",
    "    err,W,b=optimizer(X_train,W,y_train,b,learning_rate=0.1)\n",
    "    loss.append(err)\n",
    "print(W)\n",
    "print(b)"
   ]
  },
  {
   "cell_type": "code",
   "execution_count": 56,
   "metadata": {},
   "outputs": [
    {
     "data": {
      "image/png": "[encoded data removed]",
      "text/plain": [
       "<Figure size 432x288 with 1 Axes>"
      ]
     },
     "metadata": {
      "needs_background": "light"
     },
     "output_type": "display_data"
    }
   ],
   "source": [
    "plt.plot(loss)\n",
    "plt.show()"
   ]
  },
  {
   "cell_type": "code",
   "execution_count": 66,
   "metadata": {},
   "outputs": [
    {
     "name": "stdout",
     "output_type": "stream",
     "text": [
      "1 0.0\n"
     ]
    }
   ],
   "source": [
    "def predict(x_sample,W,b):\n",
    "    h=hypothesis(x_sample,W,b)\n",
    "    if h>0.5:\n",
    "        return 1\n",
    "    else:\n",
    "        return 0\n",
    "print(predict(X_train[0],W,b),y_train[0])\n",
    "    \n",
    "#for i in range(X_test.shape[0]):\n",
    " #   print(predict(X_test[i],W,b),y_test[i])"
   ]
  },
  {
   "cell_type": "code",
   "execution_count": 112,
   "metadata": {},
   "outputs": [],
   "source": [
    "\n",
    "def acc(X_test,y_test,W,b):\n",
    "    predicted=[]\n",
    "    m=X_test.shape[0]\n",
    "    for i in range(X_test.shape[0]):\n",
    "        predicted.append(predict(X_test[i],W,b))\n",
    "    predicted=np.asarray(predicted)\n",
    "    return (predicted==y_test).sum()*100/m"
   ]
  },
  {
   "cell_type": "code",
   "execution_count": 113,
   "metadata": {},
   "outputs": [
    {
     "name": "stderr",
     "output_type": "stream",
     "text": [
      "C:\\ProgramData\\Anaconda3\\lib\\site-packages\\ipykernel_launcher.py:8: DeprecationWarning: elementwise == comparison failed; this will raise an error in the future.\n",
      "  \n"
     ]
    },
    {
     "ename": "AttributeError",
     "evalue": "'bool' object has no attribute 'sum'",
     "output_type": "error",
     "traceback": [
      "\u001b[1;31m---------------------------------------------------------------------------\u001b[0m",
      "\u001b[1;31mAttributeError\u001b[0m                            Traceback (most recent call last)",
      "\u001b[1;32m<ipython-input-113-b8c2b62ceff2>\u001b[0m in \u001b[0;36m<module>\u001b[1;34m()\u001b[0m\n\u001b[1;32m----> 1\u001b[1;33m \u001b[0macc\u001b[0m\u001b[1;33m(\u001b[0m\u001b[0mX_test\u001b[0m\u001b[1;33m,\u001b[0m\u001b[0my_test\u001b[0m\u001b[1;33m,\u001b[0m\u001b[0mW\u001b[0m\u001b[1;33m,\u001b[0m\u001b[0mb\u001b[0m\u001b[1;33m)\u001b[0m\u001b[1;33m\u001b[0m\u001b[0m\n\u001b[0m",
      "\u001b[1;32m<ipython-input-112-913527b4f834>\u001b[0m in \u001b[0;36macc\u001b[1;34m(X_test, y_test, W, b)\u001b[0m\n\u001b[0;32m      6\u001b[0m         \u001b[0mpredicted\u001b[0m\u001b[1;33m.\u001b[0m\u001b[0mappend\u001b[0m\u001b[1;33m(\u001b[0m\u001b[0mpredict\u001b[0m\u001b[1;33m(\u001b[0m\u001b[0mX_test\u001b[0m\u001b[1;33m[\u001b[0m\u001b[0mi\u001b[0m\u001b[1;33m]\u001b[0m\u001b[1;33m,\u001b[0m\u001b[0mW\u001b[0m\u001b[1;33m,\u001b[0m\u001b[0mb\u001b[0m\u001b[1;33m)\u001b[0m\u001b[1;33m)\u001b[0m\u001b[1;33m\u001b[0m\u001b[0m\n\u001b[0;32m      7\u001b[0m     \u001b[0mpredicted\u001b[0m\u001b[1;33m=\u001b[0m\u001b[0mnp\u001b[0m\u001b[1;33m.\u001b[0m\u001b[0masarray\u001b[0m\u001b[1;33m(\u001b[0m\u001b[0mpredicted\u001b[0m\u001b[1;33m)\u001b[0m\u001b[1;33m\u001b[0m\u001b[0m\n\u001b[1;32m----> 8\u001b[1;33m     \u001b[1;32mreturn\u001b[0m \u001b[1;33m(\u001b[0m\u001b[0mpredicted\u001b[0m\u001b[1;33m==\u001b[0m\u001b[0my_test\u001b[0m\u001b[1;33m)\u001b[0m\u001b[1;33m.\u001b[0m\u001b[0msum\u001b[0m\u001b[1;33m(\u001b[0m\u001b[1;33m)\u001b[0m\u001b[1;33m*\u001b[0m\u001b[1;36m100\u001b[0m\u001b[1;33m/\u001b[0m\u001b[0mm\u001b[0m\u001b[1;33m\u001b[0m\u001b[0m\n\u001b[0m",
      "\u001b[1;31mAttributeError\u001b[0m: 'bool' object has no attribute 'sum'"
     ]
    }
   ],
   "source": [
    "acc(X_test,y_test,W,b)"
   ]
  },
  {
   "cell_type": "code",
   "execution_count": null,
   "metadata": {},
   "outputs": [],
   "source": []
  },
  {
   "cell_type": "code",
   "execution_count": null,
   "metadata": {},
   "outputs": [],
   "source": []
  }
 ],
 "metadata": {
  "kernelspec": {
   "display_name": "Python 3",
   "language": "python",
   "name": "python3"
  },
  "language_info": {
   "codemirror_mode": {
    "name": "ipython",
    "version": 3
   },
   "file_extension": ".py",
   "mimetype": "text/x-python",
   "name": "python",
   "nbconvert_exporter": "python",
   "pygments_lexer": "ipython3",
   "version": "3.6.6"
  }
 },
 "nbformat": 4,
 "nbformat_minor": 2
}
